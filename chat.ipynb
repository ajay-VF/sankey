{
 "cells": [
  {
   "cell_type": "code",
   "execution_count": 2,
   "metadata": {},
   "outputs": [
    {
     "ename": "ModuleNotFoundError",
     "evalue": "No module named 'ollama'",
     "output_type": "error",
     "traceback": [
      "\u001b[1;31m---------------------------------------------------------------------------\u001b[0m",
      "\u001b[1;31mModuleNotFoundError\u001b[0m                       Traceback (most recent call last)",
      "Cell \u001b[1;32mIn[2], line 1\u001b[0m\n\u001b[1;32m----> 1\u001b[0m \u001b[38;5;28;01mimport\u001b[39;00m \u001b[38;5;21;01mollama\u001b[39;00m\n\u001b[0;32m      2\u001b[0m \u001b[38;5;28;01mimport\u001b[39;00m \u001b[38;5;21;01mpandas\u001b[39;00m \u001b[38;5;28;01mas\u001b[39;00m \u001b[38;5;21;01mpd\u001b[39;00m\n\u001b[0;32m      3\u001b[0m \u001b[38;5;28;01mimport\u001b[39;00m \u001b[38;5;21;01mjson\u001b[39;00m\n",
      "\u001b[1;31mModuleNotFoundError\u001b[0m: No module named 'ollama'"
     ]
    }
   ],
   "source": [
    "import ollama\n",
    "import pandas as pd\n",
    "import json\n",
    "\n",
    "# Load your data\n",
    "df = pd.read_excel('India.xlsx', header=[0,1])\n",
    "\n",
    "# Function to create examples from your data\n",
    "def create_example(row):\n",
    "    return f\"Year: {row['years']['year']}\\n\" \\\n",
    "           f\"Urban population: {row['Demographics']['Urban population']}\\n\" \\\n",
    "           f\"Rural population: {row['Demographics']['Rural population']}\\n\" \\\n",
    "           f\"Total population: {row['Demographics']['Total population']}\\n\"\n",
    "\n",
    "# Create a list of examples\n",
    "examples = df.apply(create_example, axis=1).tolist()\n",
    "\n",
    "# Save examples to a JSON file\n",
    "with open('india_population_examples.json', 'w') as f:\n",
    "    json.dump(examples, f)\n",
    "\n",
    "print(\"Examples saved as india_population_examples.json\")\n",
    "\n",
    "# Function to generate text using the model\n",
    "def generate_text(prompt):\n",
    "    response = ollama.generate('llama2', prompt=prompt)\n",
    "    return response['response']\n",
    "\n",
    "# Function to ask a question using few-shot learning\n",
    "def ask_question(question):\n",
    "    # Load examples\n",
    "    with open('india_population_examples.json', 'r') as f:\n",
    "        all_examples = json.load(f)\n",
    "    \n",
    "    # Select a subset of examples\n",
    "    selected_examples = all_examples\n",
    "    \n",
    "    # Create the prompt\n",
    "    prompt = \"Here are some examples of population data for India:\\n\\n\"\n",
    "    for example in selected_examples:\n",
    "        prompt += example + \"\\n\"\n",
    "    \n",
    "    prompt += f\"Now, based on these examples, please answer the following question:\\n{question}\\n\\nAnswer:\"\n",
    "    \n",
    "    return generate_text(prompt)\n",
    "\n",
    "# Test the model\n",
    "questions = [\n",
    "    \"What is the current population of India?\",\n",
    "    \"How has India's urban population changed over time?\",\n",
    "    \"What's the ratio of urban to rural population in India?\",\n",
    "]\n",
    "\n",
    "for question in questions:\n",
    "    answer = ask_question(question)\n",
    "    print(f\"Question: {question}\")\n",
    "    print(f\"Answer: {answer}\\n\")"
   ]
  }
 ],
 "metadata": {
  "kernelspec": {
   "display_name": "Python 3",
   "language": "python",
   "name": "python3"
  },
  "language_info": {
   "codemirror_mode": {
    "name": "ipython",
    "version": 3
   },
   "file_extension": ".py",
   "mimetype": "text/x-python",
   "name": "python",
   "nbconvert_exporter": "python",
   "pygments_lexer": "ipython3",
   "version": "3.12.4"
  }
 },
 "nbformat": 4,
 "nbformat_minor": 2
}
